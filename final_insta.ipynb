{
 "cells": [
  {
   "cell_type": "markdown",
   "metadata": {},
   "source": [
    "# Import the required libraries"
   ]
  },
  {
   "cell_type": "code",
   "execution_count": 32,
   "metadata": {},
   "outputs": [],
   "source": [
    "import instaloader\n",
    "import pandas as pd\n",
    "from sklearn.model_selection import train_test_split\n",
    "from sklearn.preprocessing import OneHotEncoder, MaxAbsScaler\n",
    "from sklearn.linear_model import LinearRegression\n",
    "from sklearn.compose import ColumnTransformer\n",
    "from sklearn.metrics import mean_squared_error\n",
    "import matplotlib.pyplot as plt"
   ]
  },
  {
   "cell_type": "markdown",
   "metadata": {},
   "source": [
    "# Define the Instagram account credentials"
   ]
  },
  {
   "cell_type": "code",
   "execution_count": 2,
   "metadata": {},
   "outputs": [],
   "source": [
    "username = \"testing_fyp\"\n",
    "password = \"Testing@fyp\""
   ]
  },
  {
   "cell_type": "markdown",
   "metadata": {},
   "source": [
    "# Create an instance of Instaloader class and login to the Instagram account"
   ]
  },
  {
   "cell_type": "code",
   "execution_count": 47,
   "metadata": {},
   "outputs": [
    {
     "name": "stdout",
     "output_type": "stream",
     "text": [
      "Session file does not exist yet - Logging in.\n",
      "Logging in to Instagram account...\n",
      "Please wait...\n",
      "This may take a while depending on the number of followers and followees.\n",
      "Enter Instagram password for testing_fyp: ········\n"
     ]
    }
   ],
   "source": [
    "L = instaloader.Instaloader()\n",
    "try:\n",
    "    L.load_session_from_file(username)\n",
    "    L.context.log(\"Login successful.\")\n",
    "except FileNotFoundError:\n",
    "    L.context.log(\"Session file does not exist yet - Logging in.\")\n",
    "    L.context.log(\"Logging in to Instagram account...\")\n",
    "    L.context.log(\"Please wait...\")\n",
    "    L.context.log(\"This may take a while depending on the number of followers and followees.\")\n",
    "    L.interactive_login(username)"
   ]
  },
  {
   "cell_type": "markdown",
   "metadata": {},
   "source": [
    "# Scraping the data from Instagram"
   ]
  },
  {
   "cell_type": "code",
   "execution_count": 4,
   "metadata": {},
   "outputs": [
    {
     "name": "stdout",
     "output_type": "stream",
     "text": [
      "    Category   Username  Time of Posting  Number of Followers  \\\n",
      "0       food  f_delhite                5                55302   \n",
      "1       food  f_delhite                5                55302   \n",
      "2       food  f_delhite                5                55302   \n",
      "3       food  f_delhite               12                55302   \n",
      "4       food  f_delhite               11                55302   \n",
      "..       ...        ...              ...                  ...   \n",
      "195   sports   thebsblr               19               765897   \n",
      "196   sports   thebsblr               18               765897   \n",
      "197   sports   thebsblr               16               765897   \n",
      "198   sports   thebsblr               15               765897   \n",
      "199   sports   thebsblr                2               765897   \n",
      "\n",
      "     Number of Posts   Likes  \n",
      "0                952  393385  \n",
      "1                952  818673  \n",
      "2                952  140478  \n",
      "3                952    5109  \n",
      "4                952    8670  \n",
      "..               ...     ...  \n",
      "195            10187   48887  \n",
      "196            10187   28957  \n",
      "197            10187   13697  \n",
      "198            10187   32115  \n",
      "199            10187   10406  \n",
      "\n",
      "[200 rows x 6 columns]\n"
     ]
    }
   ],
   "source": [
    "# Define the list of accounts to scrape\n",
    "accounts = [\n",
    "    {\"category\": \"food\", \"username\": \"f_delhite\"},\n",
    "    {\"category\": \"food\", \"username\": \"thecoachmarlow\"},\n",
    "    {\"category\": \"food\", \"username\": \"londonbylora\"},\n",
    "    {\"category\": \"food\", \"username\": \"non_veg_lovers\"},\n",
    "    {\"category\": \"food\", \"username\": \"lekhas_feast\"},\n",
    "    {\"category\": \"photography\", \"username\": \"natural_photography123_\"},\n",
    "    {\"category\": \"photography\", \"username\": \"phot.ographyislife1\"},\n",
    "    {\"category\": \"photography\", \"username\": \"mimimandira_clicks\"},\n",
    "    {\"category\": \"photography\", \"username\": \"ija_photography\"},\n",
    "    {\"category\": \"photography\", \"username\": \"colours.of.india\"},\n",
    "    {\"category\": \"dance\", \"username\": \"dance_n_addiction\"},\n",
    "    {\"category\": \"dance\", \"username\": \"ishpreet_dang\"},\n",
    "    {\"category\": \"dance\", \"username\": \"manoletyet\"},\n",
    "    {\"category\": \"dance\", \"username\": \"yashpandyachoreography\"},\n",
    "    {\"category\": \"dance\", \"username\": \"sneadesai\"},\n",
    "    {\"category\": \"sports\", \"username\": \"stn.daily\"},\n",
    "    {\"category\": \"sports\", \"username\": \"judo.olymp_\"},\n",
    "    {\"category\": \"sports\", \"username\": \"thesizeup\"},\n",
    "    {\"category\": \"sports\", \"username\": \"ball__star\"},\n",
    "    {\"category\": \"sports\", \"username\": \"thebsblr\"}\n",
    "]\n",
    "\n",
    "# Initialize an empty list to store the scraped data\n",
    "all_data = []\n",
    "\n",
    "# Loop through each account in the list\n",
    "for account in accounts:\n",
    "\n",
    "    # Get the profile of the Instagram account\n",
    "    profile = instaloader.Profile.from_username(L.context, account['username'])\n",
    "\n",
    "    # Get the number of followers of the account\n",
    "    num_followers = profile.followers\n",
    "\n",
    "    # Get the number of posts of the account\n",
    "    num_posts = profile.mediacount\n",
    "\n",
    "    # Get the last 10 posts of the account and store the data in a list of dictionaries\n",
    "    posts = profile.get_posts()\n",
    "    posts_data = []\n",
    "    for post in posts:\n",
    "        if len(posts_data) >= 10:\n",
    "            break\n",
    "        else:\n",
    "            post_data = {\"Category\": account['category'],\n",
    "                         \"Username\": account['username'],\n",
    "                         \"Time of Posting\": post.date.hour, \n",
    "                         \"Number of Followers\": num_followers, \n",
    "                         \"Number of Posts\": num_posts, \n",
    "                         \"Likes\": post.likes}\n",
    "            posts_data.append(post_data)\n",
    "\n",
    "    # Add the post data to the list of all data\n",
    "    all_data.extend(posts_data)\n",
    "\n",
    "# Convert the list of data into a pandas DataFrame\n",
    "df = pd.DataFrame(all_data)\n",
    "\n",
    "# Print the DataFrame\n",
    "print(df)"
   ]
  },
  {
   "cell_type": "markdown",
   "metadata": {},
   "source": [
    "# Describing the data"
   ]
  },
  {
   "cell_type": "code",
   "execution_count": 5,
   "metadata": {},
   "outputs": [
    {
     "data": {
      "text/html": [
       "<div>\n",
       "<style scoped>\n",
       "    .dataframe tbody tr th:only-of-type {\n",
       "        vertical-align: middle;\n",
       "    }\n",
       "\n",
       "    .dataframe tbody tr th {\n",
       "        vertical-align: top;\n",
       "    }\n",
       "\n",
       "    .dataframe thead th {\n",
       "        text-align: right;\n",
       "    }\n",
       "</style>\n",
       "<table border=\"1\" class=\"dataframe\">\n",
       "  <thead>\n",
       "    <tr style=\"text-align: right;\">\n",
       "      <th></th>\n",
       "      <th>Time of Posting</th>\n",
       "      <th>Number of Followers</th>\n",
       "      <th>Number of Posts</th>\n",
       "      <th>Likes</th>\n",
       "    </tr>\n",
       "  </thead>\n",
       "  <tbody>\n",
       "    <tr>\n",
       "      <th>count</th>\n",
       "      <td>200.000000</td>\n",
       "      <td>2.000000e+02</td>\n",
       "      <td>200.000000</td>\n",
       "      <td>2.000000e+02</td>\n",
       "    </tr>\n",
       "    <tr>\n",
       "      <th>mean</th>\n",
       "      <td>9.910000</td>\n",
       "      <td>2.364489e+05</td>\n",
       "      <td>2275.550000</td>\n",
       "      <td>7.555318e+04</td>\n",
       "    </tr>\n",
       "    <tr>\n",
       "      <th>std</th>\n",
       "      <td>5.405367</td>\n",
       "      <td>3.534003e+05</td>\n",
       "      <td>3397.086432</td>\n",
       "      <td>3.802567e+05</td>\n",
       "    </tr>\n",
       "    <tr>\n",
       "      <th>min</th>\n",
       "      <td>0.000000</td>\n",
       "      <td>1.194700e+04</td>\n",
       "      <td>79.000000</td>\n",
       "      <td>6.700000e+01</td>\n",
       "    </tr>\n",
       "    <tr>\n",
       "      <th>25%</th>\n",
       "      <td>5.000000</td>\n",
       "      <td>2.673675e+04</td>\n",
       "      <td>531.000000</td>\n",
       "      <td>1.028500e+03</td>\n",
       "    </tr>\n",
       "    <tr>\n",
       "      <th>50%</th>\n",
       "      <td>10.000000</td>\n",
       "      <td>8.275400e+04</td>\n",
       "      <td>1029.000000</td>\n",
       "      <td>4.025000e+03</td>\n",
       "    </tr>\n",
       "    <tr>\n",
       "      <th>75%</th>\n",
       "      <td>13.000000</td>\n",
       "      <td>1.661030e+05</td>\n",
       "      <td>1859.500000</td>\n",
       "      <td>1.373375e+04</td>\n",
       "    </tr>\n",
       "    <tr>\n",
       "      <th>max</th>\n",
       "      <td>23.000000</td>\n",
       "      <td>1.306863e+06</td>\n",
       "      <td>13324.000000</td>\n",
       "      <td>3.406021e+06</td>\n",
       "    </tr>\n",
       "  </tbody>\n",
       "</table>\n",
       "</div>"
      ],
      "text/plain": [
       "       Time of Posting  Number of Followers  Number of Posts         Likes\n",
       "count       200.000000         2.000000e+02       200.000000  2.000000e+02\n",
       "mean          9.910000         2.364489e+05      2275.550000  7.555318e+04\n",
       "std           5.405367         3.534003e+05      3397.086432  3.802567e+05\n",
       "min           0.000000         1.194700e+04        79.000000  6.700000e+01\n",
       "25%           5.000000         2.673675e+04       531.000000  1.028500e+03\n",
       "50%          10.000000         8.275400e+04      1029.000000  4.025000e+03\n",
       "75%          13.000000         1.661030e+05      1859.500000  1.373375e+04\n",
       "max          23.000000         1.306863e+06     13324.000000  3.406021e+06"
      ]
     },
     "execution_count": 5,
     "metadata": {},
     "output_type": "execute_result"
    }
   ],
   "source": [
    "df.describe()"
   ]
  },
  {
   "cell_type": "markdown",
   "metadata": {},
   "source": [
    "# Visulaization of data"
   ]
  },
  {
   "cell_type": "code",
   "execution_count": 40,
   "metadata": {},
   "outputs": [
    {
     "data": {
      "image/png": "[encoded data removed]",
      "text/plain": [
       "<Figure size 432x288 with 1 Axes>"
      ]
     },
     "metadata": {
      "needs_background": "light"
     },
     "output_type": "display_data"
    }
   ],
   "source": [
    "# Create a scatter plot of likes vs. time posted\n",
    "plt.scatter(df['Time of Posting'], df['Likes'])\n",
    "plt.xlabel('Time Posted')\n",
    "plt.ylabel('Likes')\n",
    "plt.show()"
   ]
  },
  {
   "cell_type": "code",
   "execution_count": 34,
   "metadata": {},
   "outputs": [
    {
     "data": {
      "image/png": "[encoded data removed]",
      "text/plain": [
       "<Figure size 432x288 with 1 Axes>"
      ]
     },
     "metadata": {
      "needs_background": "light"
     },
     "output_type": "display_data"
    }
   ],
   "source": [
    "# Create a scatter plot of likes vs. number of followers\n",
    "plt.scatter(df['Number of Followers'], df['Likes'])\n",
    "plt.xlabel('Number of Followers')\n",
    "plt.ylabel('Likes')\n",
    "plt.show()"
   ]
  },
  {
   "cell_type": "markdown",
   "metadata": {},
   "source": [
    "# Data Pre-Processing"
   ]
  },
  {
   "cell_type": "code",
   "execution_count": 29,
   "metadata": {},
   "outputs": [],
   "source": [
    "# Define the features and target variable\n",
    "X = df[['Category','Time of Posting', 'Number of Followers', 'Number of Posts']]\n",
    "y = df['Likes']\n",
    "\n",
    "# Normalize the target\n",
    "maxvalue = max(y)\n",
    "y=y/maxvalue\n",
    "\n",
    "# Define the column transformer to encode the categorical feature\n",
    "ct = ColumnTransformer([('encoder', OneHotEncoder(), [0,1])], remainder='passthrough')\n",
    "\n",
    "# Fit and transform the column transformer on the feature data\n",
    "X = ct.fit_transform(X)\n",
    "\n",
    "# Define the scaler to normalize the feature data\n",
    "scaler = MaxAbsScaler()\n",
    "\n",
    "# Fit and transform the scaler on the feature data\n",
    "X = scaler.fit_transform(X)\n",
    "\n",
    "# Split the data into training set and test set\n",
    "X_train, X_test, y_train, y_test = train_test_split(X, y, test_size=0.2, random_state=2)\n"
   ]
  },
  {
   "cell_type": "markdown",
   "metadata": {},
   "source": [
    "# Training the ML Regression Model"
   ]
  },
  {
   "cell_type": "code",
   "execution_count": 44,
   "metadata": {},
   "outputs": [
    {
     "name": "stdout",
     "output_type": "stream",
     "text": [
      "Root Mean Squared Error: 0.0783648661971161\n"
     ]
    }
   ],
   "source": [
    "# Create an instance of the LinearRegression class\n",
    "model = LinearRegression()\n",
    "\n",
    "# Train the model using the training data\n",
    "model.fit(X_train, y_train)\n",
    "\n",
    "# Make predictions on the test data\n",
    "y_pred = model.predict(X_test)\n",
    "\n",
    "# Calculate the root mean squared error\n",
    "rmse = mean_squared_error(y_test, y_pred, squared=False)\n",
    "\n",
    "print(\"Root Mean Squared Error:\", rmse)"
   ]
  },
  {
   "cell_type": "markdown",
   "metadata": {},
   "source": [
    "# Prediction of Values"
   ]
  },
  {
   "cell_type": "code",
   "execution_count": 46,
   "metadata": {},
   "outputs": [
    {
     "name": "stdout",
     "output_type": "stream",
     "text": [
      "Predicted number of likes on the post : [1717.89811303]\n"
     ]
    }
   ],
   "source": [
    "category_encoded = ct.transform([[\"sports\", 12, 5000, 10]])\n",
    "predicted_likes = model.predict(category_encoded)\n",
    "print(\"Predicted number of likes on the post\", \":\", predicted_likes*10)"
   ]
  },
  {
   "cell_type": "code",
   "execution_count": null,
   "metadata": {},
   "outputs": [],
   "source": [
    "import pickle"
   ]
  },
  {
   "cell_type": "code",
   "execution_count": null,
   "metadata": {},
   "outputs": [],
   "source": []
  },
  {
   "cell_type": "code",
   "execution_count": null,
   "metadata": {},
   "outputs": [],
   "source": []
  },
  {
   "cell_type": "code",
   "execution_count": null,
   "metadata": {},
   "outputs": [],
   "source": []
  }
 ],
 "metadata": {
  "kernelspec": {
   "display_name": "Python 3",
   "language": "python",
   "name": "python3"
  },
  "language_info": {
   "codemirror_mode": {
    "name": "ipython",
    "version": 3
   },
   "file_extension": ".py",
   "mimetype": "text/x-python",
   "name": "python",
   "nbconvert_exporter": "python",
   "pygments_lexer": "ipython3",
   "version": "3.9.0"
  }
 },
 "nbformat": 4,
 "nbformat_minor": 4
}

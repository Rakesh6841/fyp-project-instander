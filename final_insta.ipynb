{
 "cells": [
  {
   "cell_type": "markdown",
   "metadata": {},
   "source": [
    "# Import the required libraries"
   ]
  },
  {
   "cell_type": "code",
   "execution_count": 25,
   "metadata": {},
   "outputs": [],
   "source": [
    "import instaloader\n",
    "import pandas as pd\n",
    "from sklearn.model_selection import train_test_split\n",
    "from sklearn.preprocessing import OneHotEncoder, MaxAbsScaler\n",
    "from sklearn.linear_model import LinearRegression\n",
    "from sklearn.compose import ColumnTransformer\n",
    "from sklearn.metrics import mean_squared_error\n",
    "import matplotlib.pyplot as plt"
   ]
  },
  {
   "cell_type": "markdown",
   "metadata": {},
   "source": [
    "# Define the Instagram account credentials"
   ]
  },
  {
   "cell_type": "code",
   "execution_count": 26,
   "metadata": {},
   "outputs": [],
   "source": [
    "username = \"testing_fyp\"\n",
    "password = \"Testing@fyp\""
   ]
  },
  {
   "cell_type": "markdown",
   "metadata": {},
   "source": [
    "# Create an instance of Instaloader class and login to the Instagram account"
   ]
  },
  {
   "cell_type": "code",
   "execution_count": 27,
   "metadata": {},
   "outputs": [
    {
     "name": "stdout",
     "output_type": "stream",
     "text": [
      "Session file does not exist yet - Logging in.\n",
      "Logging in to Instagram account...\n",
      "Please wait...\n",
      "This may take a while depending on the number of followers and followees.\n"
     ]
    }
   ],
   "source": [
    "L = instaloader.Instaloader()\n",
    "try:\n",
    "    L.load_session_from_file(username)\n",
    "    L.context.log(\"Login successful.\")\n",
    "except FileNotFoundError:\n",
    "    L.context.log(\"Session file does not exist yet - Logging in.\")\n",
    "    L.context.log(\"Logging in to Instagram account...\")\n",
    "    L.context.log(\"Please wait...\")\n",
    "    L.context.log(\"This may take a while depending on the number of followers and followees.\")\n",
    "    L.interactive_login(username)"
   ]
  },
  {
   "cell_type": "markdown",
   "metadata": {},
   "source": [
    "# Scraping the data from Instagram"
   ]
  },
  {
   "cell_type": "code",
   "execution_count": 28,
   "metadata": {},
   "outputs": [
    {
     "name": "stdout",
     "output_type": "stream",
     "text": [
      "    Category   Username  Time of Posting  Number of Followers   \n",
      "0       food  f_delhite                5                59675  \\\n",
      "1       food  f_delhite                5                59675   \n",
      "2       food  f_delhite                5                59675   \n",
      "3       food  f_delhite               12                59675   \n",
      "4       food  f_delhite                4                59675   \n",
      "..       ...        ...              ...                  ...   \n",
      "195   sports   thebsblr               15               781735   \n",
      "196   sports   thebsblr                3               781735   \n",
      "197   sports   thebsblr                2               781735   \n",
      "198   sports   thebsblr                1               781735   \n",
      "199   sports   thebsblr               23               781735   \n",
      "\n",
      "     Number of Posts   Likes  \n",
      "0                963  392962  \n",
      "1                963  818661  \n",
      "2                963  140451  \n",
      "3                963   17654  \n",
      "4                963     221  \n",
      "..               ...     ...  \n",
      "195            10316   18939  \n",
      "196            10316   14244  \n",
      "197            10316      -1  \n",
      "198            10316   14120  \n",
      "199            10316      -1  \n",
      "\n",
      "[200 rows x 6 columns]\n"
     ]
    }
   ],
   "source": [
    "# Define the list of accounts to scrape\n",
    "accounts = [\n",
    "    {\"category\": \"food\", \"username\": \"f_delhite\"},\n",
    "    {\"category\": \"food\", \"username\": \"thecoachmarlow\"},\n",
    "    {\"category\": \"food\", \"username\": \"londonbylora\"},\n",
    "    {\"category\": \"food\", \"username\": \"non_veg_lovers\"},\n",
    "    {\"category\": \"food\", \"username\": \"lekhas_feast\"},\n",
    "    {\"category\": \"photography\", \"username\": \"natural_photography123_\"},\n",
    "    {\"category\": \"photography\", \"username\": \"phot.ographyislife1\"},\n",
    "    {\"category\": \"photography\", \"username\": \"mimimandira_clicks\"},\n",
    "    {\"category\": \"photography\", \"username\": \"ija_photography\"},\n",
    "    {\"category\": \"photography\", \"username\": \"colours.of.india\"},\n",
    "    {\"category\": \"dance\", \"username\": \"dance_n_addiction\"},\n",
    "    {\"category\": \"dance\", \"username\": \"ishpreet_dang\"},\n",
    "    {\"category\": \"dance\", \"username\": \"manoletyet\"},\n",
    "    {\"category\": \"dance\", \"username\": \"yashpandyachoreography\"},\n",
    "    {\"category\": \"dance\", \"username\": \"sneadesai\"},\n",
    "    {\"category\": \"sports\", \"username\": \"stn.daily\"},\n",
    "    {\"category\": \"sports\", \"username\": \"judo.olymp_\"},\n",
    "    {\"category\": \"sports\", \"username\": \"thesizeup\"},\n",
    "    {\"category\": \"sports\", \"username\": \"ball__star\"},\n",
    "    {\"category\": \"sports\", \"username\": \"thebsblr\"}\n",
    "]\n",
    "\n",
    "# Initialize an empty list to store the scraped data\n",
    "all_data = []\n",
    "\n",
    "# Loop through each account in the list\n",
    "for account in accounts:\n",
    "\n",
    "    # Get the profile of the Instagram account\n",
    "    profile = instaloader.Profile.from_username(L.context, account['username'])\n",
    "\n",
    "    # Get the number of followers of the account\n",
    "    num_followers = profile.followers\n",
    "\n",
    "    # Get the number of posts of the account\n",
    "    num_posts = profile.mediacount\n",
    "\n",
    "    # Get the last 10 posts of the account and store the data in a list of dictionaries\n",
    "    posts = profile.get_posts()\n",
    "    posts_data = []\n",
    "    for post in posts:\n",
    "        if len(posts_data) >= 10:\n",
    "            break\n",
    "        else:\n",
    "            post_data = {\"Category\": account['category'],\n",
    "                         \"Username\": account['username'],\n",
    "                         \"Time of Posting\": post.date.hour, \n",
    "                         \"Number of Followers\": num_followers, \n",
    "                         \"Number of Posts\": num_posts, \n",
    "                         \"Likes\": post.likes}\n",
    "            posts_data.append(post_data)\n",
    "\n",
    "    # Add the post data to the list of all data\n",
    "    all_data.extend(posts_data)\n",
    "\n",
    "# Convert the list of data into a pandas DataFrame\n",
    "df = pd.DataFrame(all_data)\n",
    "\n",
    "# Print the DataFrame\n",
    "print(df)"
   ]
  },
  {
   "cell_type": "markdown",
   "metadata": {},
   "source": [
    "# Describing the data"
   ]
  },
  {
   "cell_type": "code",
   "execution_count": 29,
   "metadata": {},
   "outputs": [
    {
     "name": "stdout",
     "output_type": "stream",
     "text": [
      "       Time of Posting  Number of Followers  Number of Posts         Likes\n",
      "count       200.000000         2.000000e+02       200.000000  2.000000e+02\n",
      "mean         10.450000         2.407346e+05      2296.500000  7.715236e+04\n",
      "std           5.457695         3.535411e+05      3414.841087  3.808680e+05\n",
      "min           0.000000         1.192900e+04        87.000000 -1.000000e+00\n",
      "25%           6.000000         3.080525e+04       550.750000  3.752500e+02\n",
      "50%          10.000000         8.714050e+04      1037.500000  2.550500e+03\n",
      "75%          14.000000         1.681388e+05      1876.750000  9.102500e+03\n",
      "max          23.000000         1.303399e+06     13364.000000  3.405680e+06\n"
     ]
    }
   ],
   "source": [
    "print(df.describe())"
   ]
  },
  {
   "cell_type": "markdown",
   "metadata": {},
   "source": [
    "# Visulaization of data"
   ]
  },
  {
   "cell_type": "code",
   "execution_count": 30,
   "metadata": {},
   "outputs": [
    {
     "data": {
      "image/png": "[encoded data removed]",
      "text/plain": [
       "<Figure size 640x480 with 1 Axes>"
      ]
     },
     "metadata": {},
     "output_type": "display_data"
    }
   ],
   "source": [
    "# Create a scatter plot of likes vs. time posted\n",
    "plt.scatter(df['Time of Posting'], df['Likes'])\n",
    "plt.xlabel('Time Posted')\n",
    "plt.ylabel('Likes')\n",
    "plt.show()"
   ]
  },
  {
   "cell_type": "code",
   "execution_count": 31,
   "metadata": {},
   "outputs": [
    {
     "data": {
      "image/png": "[encoded data removed]",
      "text/plain": [
       "<Figure size 640x480 with 1 Axes>"
      ]
     },
     "metadata": {},
     "output_type": "display_data"
    }
   ],
   "source": [
    "# Create a scatter plot of likes vs. number of followers\n",
    "plt.scatter(df['Number of Followers'], df['Likes'])\n",
    "plt.xlabel('Number of Followers')\n",
    "plt.ylabel('Likes')\n",
    "plt.show()"
   ]
  },
  {
   "cell_type": "markdown",
   "metadata": {},
   "source": [
    "# Data Pre-Processing"
   ]
  },
  {
   "cell_type": "code",
   "execution_count": 41,
   "metadata": {},
   "outputs": [
    {
     "name": "stdout",
     "output_type": "stream",
     "text": [
      "  (0, 0)\t1.0\n",
      "  (0, 17)\t1.0\n",
      "  (0, 28)\t0.009152224299696409\n",
      "  (0, 29)\t0.05477401975456451\n",
      "  (1, 3)\t1.0\n",
      "  (1, 16)\t1.0\n",
      "  (1, 28)\t0.01657665841388554\n",
      "  (1, 29)\t0.013094881771924574\n",
      "  (2, 0)\t1.0\n",
      "  (2, 9)\t1.0\n",
      "  (2, 28)\t1.0\n",
      "  (2, 29)\t0.13596228674049687\n",
      "  (3, 0)\t1.0\n",
      "  (3, 17)\t1.0\n",
      "  (3, 28)\t0.6519929814277899\n",
      "  (3, 29)\t0.05267883867105658\n",
      "  (4, 0)\t1.0\n",
      "  (4, 15)\t1.0\n",
      "  (4, 28)\t0.018357387108629053\n",
      "  (4, 29)\t0.01803352289733613\n",
      "  (5, 0)\t1.0\n",
      "  (5, 17)\t1.0\n",
      "  (5, 28)\t0.16754808005837046\n",
      "  (5, 29)\t0.09937144567494763\n",
      "  (6, 1)\t1.0\n",
      "  :\t:\n",
      "  (153, 29)\t0.01803352289733613\n",
      "  (154, 2)\t1.0\n",
      "  (154, 8)\t1.0\n",
      "  (154, 28)\t0.09457272868860571\n",
      "  (154, 29)\t0.042053277461837776\n",
      "  (155, 1)\t1.0\n",
      "  (155, 14)\t1.0\n",
      "  (155, 28)\t0.0180911601129048\n",
      "  (155, 29)\t0.04946123914995511\n",
      "  (156, 1)\t1.0\n",
      "  (156, 14)\t1.0\n",
      "  (156, 28)\t0.020592312868124036\n",
      "  (156, 29)\t0.1221191260101766\n",
      "  (157, 2)\t1.0\n",
      "  (157, 16)\t1.0\n",
      "  (157, 28)\t0.09457272868860571\n",
      "  (157, 29)\t0.042053277461837776\n",
      "  (158, 1)\t1.0\n",
      "  (158, 21)\t1.0\n",
      "  (158, 28)\t0.0328111345796644\n",
      "  (158, 29)\t0.08320862017360073\n",
      "  (159, 3)\t1.0\n",
      "  (159, 16)\t1.0\n",
      "  (159, 28)\t0.01657665841388554\n",
      "  (159, 29)\t0.013094881771924574\n"
     ]
    }
   ],
   "source": [
    "# Define the features and target variable\n",
    "X = df[['Category','Time of Posting', 'Number of Followers', 'Number of Posts']]\n",
    "y = df['Likes']\n",
    "\n",
    "# Normalize the target\n",
    "maxvalue = max(y)\n",
    "y=y/maxvalue\n",
    "\n",
    "# Define the column transformer to encode the categorical feature\n",
    "ct = ColumnTransformer([('encoder', OneHotEncoder(), [0,1])], remainder='passthrough')\n",
    "\n",
    "# Fit and transform the column transformer on the feature data\n",
    "X = ct.fit_transform(X)\n",
    "# Define the scaler to normalize the feature data\n",
    "scaler = MaxAbsScaler()\n",
    "\n",
    "# Fit and transform the scaler on the feature data\n",
    "X = scaler.fit_transform(X)\n",
    "\n",
    "# Split the data into training set and test set\n",
    "X_train, X_test, y_train, y_test = train_test_split(X, y, test_size=0.2, random_state=2)"
   ]
  },
  {
   "cell_type": "markdown",
   "metadata": {},
   "source": [
    "# Training the ML Regression Model"
   ]
  },
  {
   "cell_type": "code",
   "execution_count": 33,
   "metadata": {},
   "outputs": [
    {
     "name": "stdout",
     "output_type": "stream",
     "text": [
      "Root Mean Squared Error: 0.1367091281351886\n"
     ]
    }
   ],
   "source": [
    "# Create an instance of the LinearRegression class\n",
    "model = LinearRegression()\n",
    "\n",
    "# Train the model using the training data\n",
    "model.fit(X_train, y_train)\n",
    "\n",
    "# Make predictions on the test data\n",
    "y_pred = model.predict(X_test)\n",
    "\n",
    "# Calculate the root mean squared error\n",
    "rmse = mean_squared_error(y_test, y_pred, squared=False)\n",
    "\n",
    "print(\"Root Mean Squared Error:\", rmse)"
   ]
  },
  {
   "cell_type": "markdown",
   "metadata": {},
   "source": [
    "# Prediction of Values"
   ]
  },
  {
   "cell_type": "code",
   "execution_count": 45,
   "metadata": {},
   "outputs": [
    {
     "name": "stdout",
     "output_type": "stream",
     "text": [
      "Predicted number of likes on the post: 495727647\n"
     ]
    },
    {
     "name": "stderr",
     "output_type": "stream",
     "text": [
      "c:\\Users\\kundu\\AppData\\Local\\Programs\\Python\\Python311\\Lib\\site-packages\\sklearn\\base.py:439: UserWarning: X does not have valid feature names, but OneHotEncoder was fitted with feature names\n",
      "  warnings.warn(\n"
     ]
    }
   ],
   "source": [
    "category_encoded = ct.transform([[\"sports\", 12, 5000, 10]])\n",
    "predicted_likes = model.predict(category_encoded)\n",
    "print(\"Predicted number of likes on the post:\", int(predicted_likes*maxvalue))"
   ]
  },
  {
   "cell_type": "code",
   "execution_count": 35,
   "metadata": {},
   "outputs": [],
   "source": [
    "import pickle"
   ]
  },
  {
   "cell_type": "code",
   "execution_count": 47,
   "metadata": {},
   "outputs": [],
   "source": [
    "# Save the model and column transformer\n",
    "data = {\"model\": model, \"ct\": ct, \"scaler\": scaler}\n",
    "with open('saved_model.pkl', 'wb') as file:\n",
    "    pickle.dump(data, file)\n",
    "\n",
    "# Load the model and column transformer\n",
    "with open('saved_model.pkl', 'rb') as file:\n",
    "    data = pickle.load(file)\n",
    "\n",
    "model_loaded = data[\"model\"]\n",
    "ct_loaded = data[\"ct\"]\n",
    "scaler_loaded = data[\"scaler\"]"
   ]
  },
  {
   "cell_type": "code",
   "execution_count": null,
   "metadata": {},
   "outputs": [],
   "source": []
  }
 ],
 "metadata": {
  "kernelspec": {
   "display_name": "Python 3",
   "language": "python",
   "name": "python3"
  },
  "language_info": {
   "codemirror_mode": {
    "name": "ipython",
    "version": 3
   },
   "file_extension": ".py",
   "mimetype": "text/x-python",
   "name": "python",
   "nbconvert_exporter": "python",
   "pygments_lexer": "ipython3",
   "version": "3.11.3"
  }
 },
 "nbformat": 4,
 "nbformat_minor": 4
}

{
 "cells": [
  {
   "cell_type": "markdown",
   "metadata": {},
   "source": [
    "# Import the required libraries"
   ]
  },
  {
   "cell_type": "code",
   "execution_count": 4,
   "metadata": {},
   "outputs": [],
   "source": [
    "import instaloader\n",
    "import pandas as pd\n",
    "from sklearn.model_selection import train_test_split\n",
    "from sklearn.preprocessing import OneHotEncoder, MaxAbsScaler\n",
    "from sklearn.linear_model import LinearRegression\n",
    "from sklearn.compose import ColumnTransformer\n",
    "from sklearn.metrics import mean_squared_error\n",
    "import matplotlib.pyplot as plt"
   ]
  },
  {
   "cell_type": "markdown",
   "metadata": {},
   "source": [
    "# Define the Instagram account credentials"
   ]
  },
  {
   "cell_type": "code",
   "execution_count": 5,
   "metadata": {},
   "outputs": [],
   "source": [
    "username = \"testing_fyp\"\n",
    "password = \"Testing@fyp\""
   ]
  },
  {
   "cell_type": "markdown",
   "metadata": {},
   "source": [
    "# Create an instance of Instaloader class and login to the Instagram account"
   ]
  },
  {
   "cell_type": "code",
   "execution_count": 6,
   "metadata": {},
   "outputs": [
    {
     "name": "stdout",
     "output_type": "stream",
     "text": [
      "Session file does not exist yet - Logging in.\n",
      "Logging in to Instagram account...\n",
      "Please wait...\n",
      "This may take a while depending on the number of followers and followees.\n"
     ]
    },
    {
     "ename": "ConnectionException",
     "evalue": "Login: Checkpoint required. Point your browser to https://www.instagram.com/challenge/action/AXE3xXOXfFtAPrkJgYOcDNzSJCFQOjxyR5Ik1YDqOMCUNmbwAPXurgYWV1IHncpVQpG6GWE/AfzmS9fsd1BRyZ0LHOiLyFh8bOUVOT9kQ2Bi2K05DOSHv3EVBeweIvhmVgFYNyg8yh02IUDr4RpvnQ/ffc_JCZeSh9aq5phI5xtFV7oH7W42kBPCSYzS2s8OizaNtHnRaC6FPrlVBGQ99LBlob3/ - follow the instructions, then retry.",
     "output_type": "error",
     "traceback": [
      "\u001b[1;31m---------------------------------------------------------------------------\u001b[0m",
      "\u001b[1;31mFileNotFoundError\u001b[0m                         Traceback (most recent call last)",
      "Cell \u001b[1;32mIn[6], line 3\u001b[0m\n\u001b[0;32m      2\u001b[0m \u001b[39mtry\u001b[39;00m:\n\u001b[1;32m----> 3\u001b[0m     L\u001b[39m.\u001b[39;49mload_session_from_file(username)\n\u001b[0;32m      4\u001b[0m     L\u001b[39m.\u001b[39mcontext\u001b[39m.\u001b[39mlog(\u001b[39m\"\u001b[39m\u001b[39mLogin successful.\u001b[39m\u001b[39m\"\u001b[39m)\n",
      "File \u001b[1;32mc:\\Users\\kundu\\AppData\\Local\\Programs\\Python\\Python311\\Lib\\site-packages\\instaloader\\instaloader.py:618\u001b[0m, in \u001b[0;36mInstaloader.load_session_from_file\u001b[1;34m(self, username, filename)\u001b[0m\n\u001b[0;32m    617\u001b[0m         filename \u001b[39m=\u001b[39m get_legacy_session_filename(username)\n\u001b[1;32m--> 618\u001b[0m \u001b[39mwith\u001b[39;00m \u001b[39mopen\u001b[39;49m(filename, \u001b[39m'\u001b[39;49m\u001b[39mrb\u001b[39;49m\u001b[39m'\u001b[39;49m) \u001b[39mas\u001b[39;00m sessionfile:\n\u001b[0;32m    619\u001b[0m     \u001b[39mself\u001b[39m\u001b[39m.\u001b[39mcontext\u001b[39m.\u001b[39mload_session_from_file(username, sessionfile)\n",
      "\u001b[1;31mFileNotFoundError\u001b[0m: [Errno 2] No such file or directory: 'c:\\\\users\\\\kundu\\\\appdata\\\\local\\\\temp/.instaloader-kundu/session-testing_fyp'",
      "\nDuring handling of the above exception, another exception occurred:\n",
      "\u001b[1;31mConnectionException\u001b[0m                       Traceback (most recent call last)",
      "Cell \u001b[1;32mIn[6], line 10\u001b[0m\n\u001b[0;32m      8\u001b[0m L\u001b[39m.\u001b[39mcontext\u001b[39m.\u001b[39mlog(\u001b[39m\"\u001b[39m\u001b[39mPlease wait...\u001b[39m\u001b[39m\"\u001b[39m)\n\u001b[0;32m      9\u001b[0m L\u001b[39m.\u001b[39mcontext\u001b[39m.\u001b[39mlog(\u001b[39m\"\u001b[39m\u001b[39mThis may take a while depending on the number of followers and followees.\u001b[39m\u001b[39m\"\u001b[39m)\n\u001b[1;32m---> 10\u001b[0m L\u001b[39m.\u001b[39;49minteractive_login(username)\n",
      "File \u001b[1;32mc:\\Users\\kundu\\AppData\\Local\\Programs\\Python\\Python311\\Lib\\site-packages\\instaloader\\instaloader.py:1572\u001b[0m, in \u001b[0;36mInstaloader.interactive_login\u001b[1;34m(self, username)\u001b[0m\n\u001b[0;32m   1570\u001b[0m password \u001b[39m=\u001b[39m getpass\u001b[39m.\u001b[39mgetpass(prompt\u001b[39m=\u001b[39m\u001b[39m\"\u001b[39m\u001b[39mEnter Instagram password for \u001b[39m\u001b[39m%s\u001b[39;00m\u001b[39m: \u001b[39m\u001b[39m\"\u001b[39m \u001b[39m%\u001b[39m username)\n\u001b[0;32m   1571\u001b[0m \u001b[39mtry\u001b[39;00m:\n\u001b[1;32m-> 1572\u001b[0m     \u001b[39mself\u001b[39;49m\u001b[39m.\u001b[39;49mlogin(username, password)\n\u001b[0;32m   1573\u001b[0m \u001b[39mexcept\u001b[39;00m BadCredentialsException \u001b[39mas\u001b[39;00m err:\n\u001b[0;32m   1574\u001b[0m     \u001b[39mprint\u001b[39m(err, file\u001b[39m=\u001b[39msys\u001b[39m.\u001b[39mstderr)\n",
      "File \u001b[1;32mc:\\Users\\kundu\\AppData\\Local\\Programs\\Python\\Python311\\Lib\\site-packages\\instaloader\\instaloader.py:634\u001b[0m, in \u001b[0;36mInstaloader.login\u001b[1;34m(self, user, passwd)\u001b[0m\n\u001b[0;32m    626\u001b[0m \u001b[39mdef\u001b[39;00m \u001b[39mlogin\u001b[39m(\u001b[39mself\u001b[39m, user: \u001b[39mstr\u001b[39m, passwd: \u001b[39mstr\u001b[39m) \u001b[39m-\u001b[39m\u001b[39m>\u001b[39m \u001b[39mNone\u001b[39;00m:\n\u001b[0;32m    627\u001b[0m \u001b[39m    \u001b[39m\u001b[39m\"\"\"Log in to instagram with given username and password and internally store session object.\u001b[39;00m\n\u001b[0;32m    628\u001b[0m \n\u001b[0;32m    629\u001b[0m \u001b[39m    :raises InvalidArgumentException: If the provided username does not exist.\u001b[39;00m\n\u001b[1;32m   (...)\u001b[0m\n\u001b[0;32m    632\u001b[0m \u001b[39m    :raises TwoFactorAuthRequiredException: First step of 2FA login done, now call\u001b[39;00m\n\u001b[0;32m    633\u001b[0m \u001b[39m       :meth:`Instaloader.two_factor_login`.\"\"\"\u001b[39;00m\n\u001b[1;32m--> 634\u001b[0m     \u001b[39mself\u001b[39;49m\u001b[39m.\u001b[39;49mcontext\u001b[39m.\u001b[39;49mlogin(user, passwd)\n",
      "File \u001b[1;32mc:\\Users\\kundu\\AppData\\Local\\Programs\\Python\\Python311\\Lib\\site-packages\\instaloader\\instaloadercontext.py:239\u001b[0m, in \u001b[0;36mInstaloaderContext.login\u001b[1;34m(self, user, passwd)\u001b[0m\n\u001b[0;32m    237\u001b[0m     \u001b[39mraise\u001b[39;00m TwoFactorAuthRequiredException(\u001b[39m\"\u001b[39m\u001b[39mLogin error: two-factor authentication required.\u001b[39m\u001b[39m\"\u001b[39m)\n\u001b[0;32m    238\u001b[0m \u001b[39mif\u001b[39;00m resp_json\u001b[39m.\u001b[39mget(\u001b[39m'\u001b[39m\u001b[39mcheckpoint_url\u001b[39m\u001b[39m'\u001b[39m):\n\u001b[1;32m--> 239\u001b[0m     \u001b[39mraise\u001b[39;00m ConnectionException(\u001b[39m\"\u001b[39m\u001b[39mLogin: Checkpoint required. Point your browser to \u001b[39m\u001b[39m\"\u001b[39m\n\u001b[0;32m    240\u001b[0m                               \u001b[39m\"\u001b[39m\u001b[39mhttps://www.instagram.com\u001b[39m\u001b[39m{}\u001b[39;00m\u001b[39m - \u001b[39m\u001b[39m\"\u001b[39m\n\u001b[0;32m    241\u001b[0m                               \u001b[39m\"\u001b[39m\u001b[39mfollow the instructions, then retry.\u001b[39m\u001b[39m\"\u001b[39m\u001b[39m.\u001b[39mformat(resp_json\u001b[39m.\u001b[39mget(\u001b[39m'\u001b[39m\u001b[39mcheckpoint_url\u001b[39m\u001b[39m'\u001b[39m)))\n\u001b[0;32m    242\u001b[0m \u001b[39mif\u001b[39;00m resp_json[\u001b[39m'\u001b[39m\u001b[39mstatus\u001b[39m\u001b[39m'\u001b[39m] \u001b[39m!=\u001b[39m \u001b[39m'\u001b[39m\u001b[39mok\u001b[39m\u001b[39m'\u001b[39m:\n\u001b[0;32m    243\u001b[0m     \u001b[39mif\u001b[39;00m \u001b[39m'\u001b[39m\u001b[39mmessage\u001b[39m\u001b[39m'\u001b[39m \u001b[39min\u001b[39;00m resp_json:\n",
      "\u001b[1;31mConnectionException\u001b[0m: Login: Checkpoint required. Point your browser to https://www.instagram.com/challenge/action/AXE3xXOXfFtAPrkJgYOcDNzSJCFQOjxyR5Ik1YDqOMCUNmbwAPXurgYWV1IHncpVQpG6GWE/AfzmS9fsd1BRyZ0LHOiLyFh8bOUVOT9kQ2Bi2K05DOSHv3EVBeweIvhmVgFYNyg8yh02IUDr4RpvnQ/ffc_JCZeSh9aq5phI5xtFV7oH7W42kBPCSYzS2s8OizaNtHnRaC6FPrlVBGQ99LBlob3/ - follow the instructions, then retry."
     ]
    }
   ],
   "source": [
    "L = instaloader.Instaloader()\n",
    "try:\n",
    "    L.load_session_from_file(username)\n",
    "    L.context.log(\"Login successful.\")\n",
    "except FileNotFoundError:\n",
    "    L.context.log(\"Session file does not exist yet - Logging in.\")\n",
    "    L.context.log(\"Logging in to Instagram account...\")\n",
    "    L.context.log(\"Please wait...\")\n",
    "    L.context.log(\"This may take a while depending on the number of followers and followees.\")\n",
    "    L.interactive_login(username)"
   ]
  },
  {
   "cell_type": "markdown",
   "metadata": {},
   "source": [
    "# Scraping the data from Instagram"
   ]
  },
  {
   "cell_type": "code",
   "execution_count": 7,
   "metadata": {},
   "outputs": [
    {
     "name": "stdout",
     "output_type": "stream",
     "text": [
      "    Category   Username  Time of Posting  Number of Followers   \n",
      "0       food  f_delhite                5                59172  \\\n",
      "1       food  f_delhite                5                59172   \n",
      "2       food  f_delhite                5                59172   \n",
      "3       food  f_delhite               12                59172   \n",
      "4       food  f_delhite               12                59172   \n",
      "..       ...        ...              ...                  ...   \n",
      "195   sports   thebsblr                0               794346   \n",
      "196   sports   thebsblr               22               794346   \n",
      "197   sports   thebsblr               21               794346   \n",
      "198   sports   thebsblr               20               794346   \n",
      "199   sports   thebsblr               18               794346   \n",
      "\n",
      "     Number of Posts   Likes  \n",
      "0                974  392624  \n",
      "1                974  819172  \n",
      "2                974  140320  \n",
      "3                974     141  \n",
      "4                974     421  \n",
      "..               ...     ...  \n",
      "195            10439   30167  \n",
      "196            10439      -1  \n",
      "197            10439      -1  \n",
      "198            10439   25430  \n",
      "199            10439      -1  \n",
      "\n",
      "[200 rows x 6 columns]\n"
     ]
    }
   ],
   "source": [
    "# Define the list of accounts to scrape\n",
    "accounts = [\n",
    "    {\"category\": \"food\", \"username\": \"f_delhite\"},\n",
    "    {\"category\": \"food\", \"username\": \"thecoachmarlow\"},\n",
    "    {\"category\": \"food\", \"username\": \"londonbylora\"},\n",
    "    {\"category\": \"food\", \"username\": \"non_veg_lovers\"},\n",
    "    {\"category\": \"food\", \"username\": \"lekhas_feast\"},\n",
    "    {\"category\": \"photography\", \"username\": \"natural_photography123_\"},\n",
    "    {\"category\": \"photography\", \"username\": \"phot.ographyislife1\"},\n",
    "    {\"category\": \"photography\", \"username\": \"mimimandira_clicks\"},\n",
    "    {\"category\": \"photography\", \"username\": \"ija_photography\"},\n",
    "    {\"category\": \"photography\", \"username\": \"colours.of.india\"},\n",
    "    {\"category\": \"dance\", \"username\": \"dance_n_addiction\"},\n",
    "    {\"category\": \"dance\", \"username\": \"ishpreet_dang\"},\n",
    "    {\"category\": \"dance\", \"username\": \"manoletyet\"},\n",
    "    {\"category\": \"dance\", \"username\": \"yashpandyachoreography\"},\n",
    "    {\"category\": \"dance\", \"username\": \"sneadesai\"},\n",
    "    {\"category\": \"sports\", \"username\": \"stn.daily\"},\n",
    "    {\"category\": \"sports\", \"username\": \"judo.olymp_\"},\n",
    "    {\"category\": \"sports\", \"username\": \"thesizeup\"},\n",
    "    {\"category\": \"sports\", \"username\": \"ball__star\"},\n",
    "    {\"category\": \"sports\", \"username\": \"thebsblr\"}\n",
    "]\n",
    "\n",
    "# Initialize an empty list to store the scraped data\n",
    "all_data = []\n",
    "\n",
    "# Loop through each account in the list\n",
    "for account in accounts:\n",
    "\n",
    "    # Get the profile of the Instagram account\n",
    "    profile = instaloader.Profile.from_username(L.context, account['username'])\n",
    "\n",
    "    # Get the number of followers of the account\n",
    "    num_followers = profile.followers\n",
    "\n",
    "    # Get the number of posts of the account\n",
    "    num_posts = profile.mediacount\n",
    "\n",
    "    # Get the last 10 posts of the account and store the data in a list of dictionaries\n",
    "    posts = profile.get_posts()\n",
    "    posts_data = []\n",
    "    for post in posts:\n",
    "        if len(posts_data) >= 10:\n",
    "            break\n",
    "        else:\n",
    "            post_data = {\"Category\": account['category'],\n",
    "                         \"Username\": account['username'],\n",
    "                         \"Time of Posting\": post.date.hour, \n",
    "                         \"Number of Followers\": num_followers, \n",
    "                         \"Number of Posts\": num_posts, \n",
    "                         \"Likes\": post.likes}\n",
    "            posts_data.append(post_data)\n",
    "\n",
    "    # Add the post data to the list of all data\n",
    "    all_data.extend(posts_data)\n",
    "\n",
    "# Convert the list of data into a pandas DataFrame\n",
    "df = pd.DataFrame(all_data)\n",
    "\n",
    "# Print the DataFrame\n",
    "print(df)"
   ]
  },
  {
   "cell_type": "markdown",
   "metadata": {},
   "source": [
    "# Describing the data"
   ]
  },
  {
   "cell_type": "code",
   "execution_count": 8,
   "metadata": {},
   "outputs": [
    {
     "data": {
      "text/html": [
       "<div>\n",
       "<style scoped>\n",
       "    .dataframe tbody tr th:only-of-type {\n",
       "        vertical-align: middle;\n",
       "    }\n",
       "\n",
       "    .dataframe tbody tr th {\n",
       "        vertical-align: top;\n",
       "    }\n",
       "\n",
       "    .dataframe thead th {\n",
       "        text-align: right;\n",
       "    }\n",
       "</style>\n",
       "<table border=\"1\" class=\"dataframe\">\n",
       "  <thead>\n",
       "    <tr style=\"text-align: right;\">\n",
       "      <th></th>\n",
       "      <th>Time of Posting</th>\n",
       "      <th>Number of Followers</th>\n",
       "      <th>Number of Posts</th>\n",
       "      <th>Likes</th>\n",
       "    </tr>\n",
       "  </thead>\n",
       "  <tbody>\n",
       "    <tr>\n",
       "      <th>count</th>\n",
       "      <td>200.000000</td>\n",
       "      <td>2.000000e+02</td>\n",
       "      <td>200.000000</td>\n",
       "      <td>2.000000e+02</td>\n",
       "    </tr>\n",
       "    <tr>\n",
       "      <th>mean</th>\n",
       "      <td>10.485000</td>\n",
       "      <td>2.426716e+05</td>\n",
       "      <td>2318.200000</td>\n",
       "      <td>7.258253e+04</td>\n",
       "    </tr>\n",
       "    <tr>\n",
       "      <th>std</th>\n",
       "      <td>5.407028</td>\n",
       "      <td>3.544240e+05</td>\n",
       "      <td>3444.556825</td>\n",
       "      <td>3.807922e+05</td>\n",
       "    </tr>\n",
       "    <tr>\n",
       "      <th>min</th>\n",
       "      <td>0.000000</td>\n",
       "      <td>1.193800e+04</td>\n",
       "      <td>99.000000</td>\n",
       "      <td>-1.000000e+00</td>\n",
       "    </tr>\n",
       "    <tr>\n",
       "      <th>25%</th>\n",
       "      <td>6.000000</td>\n",
       "      <td>3.353750e+04</td>\n",
       "      <td>563.500000</td>\n",
       "      <td>3.407500e+02</td>\n",
       "    </tr>\n",
       "    <tr>\n",
       "      <th>50%</th>\n",
       "      <td>11.000000</td>\n",
       "      <td>8.828850e+04</td>\n",
       "      <td>1045.500000</td>\n",
       "      <td>1.941500e+03</td>\n",
       "    </tr>\n",
       "    <tr>\n",
       "      <th>75%</th>\n",
       "      <td>14.000000</td>\n",
       "      <td>1.698848e+05</td>\n",
       "      <td>1894.000000</td>\n",
       "      <td>6.218000e+03</td>\n",
       "    </tr>\n",
       "    <tr>\n",
       "      <th>max</th>\n",
       "      <td>23.000000</td>\n",
       "      <td>1.300333e+06</td>\n",
       "      <td>13478.000000</td>\n",
       "      <td>3.403571e+06</td>\n",
       "    </tr>\n",
       "  </tbody>\n",
       "</table>\n",
       "</div>"
      ],
      "text/plain": [
       "       Time of Posting  Number of Followers  Number of Posts         Likes\n",
       "count       200.000000         2.000000e+02       200.000000  2.000000e+02\n",
       "mean         10.485000         2.426716e+05      2318.200000  7.258253e+04\n",
       "std           5.407028         3.544240e+05      3444.556825  3.807922e+05\n",
       "min           0.000000         1.193800e+04        99.000000 -1.000000e+00\n",
       "25%           6.000000         3.353750e+04       563.500000  3.407500e+02\n",
       "50%          11.000000         8.828850e+04      1045.500000  1.941500e+03\n",
       "75%          14.000000         1.698848e+05      1894.000000  6.218000e+03\n",
       "max          23.000000         1.300333e+06     13478.000000  3.403571e+06"
      ]
     },
     "execution_count": 8,
     "metadata": {},
     "output_type": "execute_result"
    }
   ],
   "source": [
    "df.describe()"
   ]
  },
  {
   "cell_type": "markdown",
   "metadata": {},
   "source": [
    "# Visulaization of data"
   ]
  },
  {
   "cell_type": "code",
   "execution_count": 9,
   "metadata": {},
   "outputs": [
    {
     "data": {
      "image/png": "[encoded data removed]",
      "text/plain": [
       "<Figure size 640x480 with 1 Axes>"
      ]
     },
     "metadata": {},
     "output_type": "display_data"
    }
   ],
   "source": [
    "# Create a scatter plot of likes vs. time posted\n",
    "plt.scatter(df['Time of Posting'], df['Likes'])\n",
    "plt.xlabel('Time Posted')\n",
    "plt.ylabel('Likes')\n",
    "plt.show()"
   ]
  },
  {
   "cell_type": "code",
   "execution_count": 10,
   "metadata": {},
   "outputs": [
    {
     "data": {
      "image/png": "[encoded data removed]",
      "text/plain": [
       "<Figure size 640x480 with 1 Axes>"
      ]
     },
     "metadata": {},
     "output_type": "display_data"
    }
   ],
   "source": [
    "# Create a scatter plot of likes vs. number of followers\n",
    "plt.scatter(df['Number of Followers'], df['Likes'])\n",
    "plt.xlabel('Number of Followers')\n",
    "plt.ylabel('Likes')\n",
    "plt.show()"
   ]
  },
  {
   "cell_type": "markdown",
   "metadata": {},
   "source": [
    "# Data Pre-Processing"
   ]
  },
  {
   "cell_type": "code",
   "execution_count": 11,
   "metadata": {},
   "outputs": [],
   "source": [
    "# Define the features and target variable\n",
    "X = df[['Category','Time of Posting', 'Number of Followers', 'Number of Posts']]\n",
    "y = df['Likes']\n",
    "\n",
    "# Normalize the target\n",
    "maxvalue = max(y)\n",
    "y=y/maxvalue\n",
    "\n",
    "# Define the column transformer to encode the categorical feature\n",
    "ct = ColumnTransformer([('encoder', OneHotEncoder(), [0,1])], remainder='passthrough')\n",
    "\n",
    "# Fit and transform the column transformer on the feature data\n",
    "X = ct.fit_transform(X)\n",
    "\n",
    "# Define the scaler to normalize the feature data\n",
    "scaler = MaxAbsScaler()\n",
    "\n",
    "# Fit and transform the scaler on the feature data\n",
    "X = scaler.fit_transform(X)\n",
    "\n",
    "# Split the data into training set and test set\n",
    "X_train, X_test, y_train, y_test = train_test_split(X, y, test_size=0.2, random_state=2)\n"
   ]
  },
  {
   "cell_type": "markdown",
   "metadata": {},
   "source": [
    "# Training the ML Regression Model"
   ]
  },
  {
   "cell_type": "code",
   "execution_count": 12,
   "metadata": {},
   "outputs": [
    {
     "data": {
      "text/html": [
       "<style>#sk-container-id-1 {color: black;background-color: white;}#sk-container-id-1 pre{padding: 0;}#sk-container-id-1 div.sk-toggleable {background-color: white;}#sk-container-id-1 label.sk-toggleable__label {cursor: pointer;display: block;width: 100%;margin-bottom: 0;padding: 0.3em;box-sizing: border-box;text-align: center;}#sk-container-id-1 label.sk-toggleable__label-arrow:before {content: \"▸\";float: left;margin-right: 0.25em;color: #696969;}#sk-container-id-1 label.sk-toggleable__label-arrow:hover:before {color: black;}#sk-container-id-1 div.sk-estimator:hover label.sk-toggleable__label-arrow:before {color: black;}#sk-container-id-1 div.sk-toggleable__content {max-height: 0;max-width: 0;overflow: hidden;text-align: left;background-color: #f0f8ff;}#sk-container-id-1 div.sk-toggleable__content pre {margin: 0.2em;color: black;border-radius: 0.25em;background-color: #f0f8ff;}#sk-container-id-1 input.sk-toggleable__control:checked~div.sk-toggleable__content {max-height: 200px;max-width: 100%;overflow: auto;}#sk-container-id-1 input.sk-toggleable__control:checked~label.sk-toggleable__label-arrow:before {content: \"▾\";}#sk-container-id-1 div.sk-estimator input.sk-toggleable__control:checked~label.sk-toggleable__label {background-color: #d4ebff;}#sk-container-id-1 div.sk-label input.sk-toggleable__control:checked~label.sk-toggleable__label {background-color: #d4ebff;}#sk-container-id-1 input.sk-hidden--visually {border: 0;clip: rect(1px 1px 1px 1px);clip: rect(1px, 1px, 1px, 1px);height: 1px;margin: -1px;overflow: hidden;padding: 0;position: absolute;width: 1px;}#sk-container-id-1 div.sk-estimator {font-family: monospace;background-color: #f0f8ff;border: 1px dotted black;border-radius: 0.25em;box-sizing: border-box;margin-bottom: 0.5em;}#sk-container-id-1 div.sk-estimator:hover {background-color: #d4ebff;}#sk-container-id-1 div.sk-parallel-item::after {content: \"\";width: 100%;border-bottom: 1px solid gray;flex-grow: 1;}#sk-container-id-1 div.sk-label:hover label.sk-toggleable__label {background-color: #d4ebff;}#sk-container-id-1 div.sk-serial::before {content: \"\";position: absolute;border-left: 1px solid gray;box-sizing: border-box;top: 0;bottom: 0;left: 50%;z-index: 0;}#sk-container-id-1 div.sk-serial {display: flex;flex-direction: column;align-items: center;background-color: white;padding-right: 0.2em;padding-left: 0.2em;position: relative;}#sk-container-id-1 div.sk-item {position: relative;z-index: 1;}#sk-container-id-1 div.sk-parallel {display: flex;align-items: stretch;justify-content: center;background-color: white;position: relative;}#sk-container-id-1 div.sk-item::before, #sk-container-id-1 div.sk-parallel-item::before {content: \"\";position: absolute;border-left: 1px solid gray;box-sizing: border-box;top: 0;bottom: 0;left: 50%;z-index: -1;}#sk-container-id-1 div.sk-parallel-item {display: flex;flex-direction: column;z-index: 1;position: relative;background-color: white;}#sk-container-id-1 div.sk-parallel-item:first-child::after {align-self: flex-end;width: 50%;}#sk-container-id-1 div.sk-parallel-item:last-child::after {align-self: flex-start;width: 50%;}#sk-container-id-1 div.sk-parallel-item:only-child::after {width: 0;}#sk-container-id-1 div.sk-dashed-wrapped {border: 1px dashed gray;margin: 0 0.4em 0.5em 0.4em;box-sizing: border-box;padding-bottom: 0.4em;background-color: white;}#sk-container-id-1 div.sk-label label {font-family: monospace;font-weight: bold;display: inline-block;line-height: 1.2em;}#sk-container-id-1 div.sk-label-container {text-align: center;}#sk-container-id-1 div.sk-container {/* jupyter's `normalize.less` sets `[hidden] { display: none; }` but bootstrap.min.css set `[hidden] { display: none !important; }` so we also need the `!important` here to be able to override the default hidden behavior on the sphinx rendered scikit-learn.org. See: https://github.com/scikit-learn/scikit-learn/issues/21755 */display: inline-block !important;position: relative;}#sk-container-id-1 div.sk-text-repr-fallback {display: none;}</style><div id=\"sk-container-id-1\" class=\"sk-top-container\"><div class=\"sk-text-repr-fallback\"><pre>LinearRegression()</pre><b>In a Jupyter environment, please rerun this cell to show the HTML representation or trust the notebook. <br />On GitHub, the HTML representation is unable to render, please try loading this page with nbviewer.org.</b></div><div class=\"sk-container\" hidden><div class=\"sk-item\"><div class=\"sk-estimator sk-toggleable\"><input class=\"sk-toggleable__control sk-hidden--visually\" id=\"sk-estimator-id-1\" type=\"checkbox\" checked><label for=\"sk-estimator-id-1\" class=\"sk-toggleable__label sk-toggleable__label-arrow\">LinearRegression</label><div class=\"sk-toggleable__content\"><pre>LinearRegression()</pre></div></div></div></div></div>"
      ],
      "text/plain": [
       "LinearRegression()"
      ]
     },
     "execution_count": 12,
     "metadata": {},
     "output_type": "execute_result"
    }
   ],
   "source": [
    "# Create an instance of the LinearRegression class\n",
    "model = LinearRegression()\n",
    "\n",
    "# Train the model using the training data\n",
    "model.fit(X_train, y_train)\n",
    "\n"
   ]
  },
  {
   "cell_type": "markdown",
   "metadata": {},
   "source": [
    "# Prediction of Values"
   ]
  },
  {
   "cell_type": "code",
   "execution_count": null,
   "metadata": {},
   "outputs": [],
   "source": []
  },
  {
   "cell_type": "code",
   "execution_count": null,
   "metadata": {},
   "outputs": [],
   "source": [
    "import pickle"
   ]
  },
  {
   "cell_type": "code",
   "execution_count": null,
   "metadata": {},
   "outputs": [],
   "source": [
    "# Save the model and column transformer\n",
    "data = {\"model\": model, \"ct\": ct, \"scaler\": scaler}\n",
    "with open('saved_model.pkl', 'wb') as file:\n",
    "    pickle.dump(data, file)\n",
    "\n",
    "# Load the model and column transformer\n",
    "with open('saved_model.pkl', 'rb') as file:\n",
    "    data = pickle.load(file)\n",
    "\n",
    "model_loaded = data[\"model\"]\n",
    "ct_loaded = data[\"ct\"]\n",
    "scaler_loaded = data[\"scaler\"]"
   ]
  }
 ],
 "metadata": {
  "kernelspec": {
   "display_name": "Python 3",
   "language": "python",
   "name": "python3"
  },
  "language_info": {
   "codemirror_mode": {
    "name": "ipython",
    "version": 3
   },
   "file_extension": ".py",
   "mimetype": "text/x-python",
   "name": "python",
   "nbconvert_exporter": "python",
   "pygments_lexer": "ipython3",
   "version": "3.11.3"
  }
 },
 "nbformat": 4,
 "nbformat_minor": 4
}
